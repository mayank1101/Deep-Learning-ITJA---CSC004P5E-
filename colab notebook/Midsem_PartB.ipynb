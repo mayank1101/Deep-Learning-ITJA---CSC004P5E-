{
 "cells": [
  {
   "cell_type": "code",
   "execution_count": 11,
   "metadata": {
    "id": "4Tz5NQMyzxtB"
   },
   "outputs": [],
   "source": [
    "# By:\n",
    "# Mayank Sharma 2019PCS0005\n",
    "# Nikita Sharma 2019PCS0007\n",
    "# Pranav Joshi  2019PCS0022"
   ]
  },
  {
   "cell_type": "code",
   "execution_count": 13,
   "metadata": {
    "id": "_CMcNVd6qCsW"
   },
   "outputs": [],
   "source": [
    "import numpy as np\n",
    "import pandas as pd\n",
    "from math import ceil\n",
    "from cnn_forward_propagation.fpass import *\n",
    "from cnn_backward_propagation.bpass import *\n",
    "from NeuralNetwork import *"
   ]
  },
  {
   "cell_type": "markdown",
   "metadata": {
    "id": "e8GXO9S3U9JY"
   },
   "source": [
    "## ."
   ]
  },
  {
   "cell_type": "code",
   "execution_count": 14,
   "metadata": {
    "id": "OGTHTmtcqHH-"
   },
   "outputs": [],
   "source": [
    "# In the algorithm proposed previously,\n",
    "# we were computing the convolution for \n",
    "# different number of input channels,\n",
    "# and different number of kernels seperately\n",
    "# i.e. one or many\n",
    "# Similarly, we were computing the pooling\n",
    "# for different number of channels separately.\n",
    "\n",
    "# In the below implementation,\n",
    "# we are computing the above using\n",
    "# common snippets, with help of vectorization\n",
    "# and code simplification/cleaning.\n",
    "# this helps to avoid unecessary repitition\n",
    "# of significant portion of code. "
   ]
  },
  {
   "cell_type": "markdown",
   "metadata": {
    "id": "ZMd5gcQsJKQs"
   },
   "source": [
    "## Fully Connected Neural Network\n"
   ]
  },
  {
   "cell_type": "code",
   "execution_count": 15,
   "metadata": {
    "id": "T7969tr3LW8u"
   },
   "outputs": [],
   "source": [
    "import numpy as np\n",
    "\n",
    "'''\n",
    "Defining Generic Class for a fully connected Neural Network\n",
    "\n",
    "Arguments\n",
    "----------\n",
    "\n",
    "input_nodes: Numbers of nodes in input vector\n",
    "hidden_nodes: Number of activation functions in hidden node\n",
    "output_node: Number of nodes in output layer\n",
    "\n",
    "'''\n",
    "\n",
    "\n",
    "class NeuralNetwork(object):\n",
    "\n",
    "    def __init__(self, input_nodes, hidden_nodes, output_nodes, learning_rate):\n",
    "        # Set number of nodes in input, hidden and output layers.\n",
    "        self.input_nodes = input_nodes\n",
    "        self.hidden_nodes = hidden_nodes\n",
    "        self.output_nodes = output_nodes\n",
    "\n",
    "        # Initialize weights\n",
    "        self.weights_input_to_hidden = np.random.normal(0.0, self.input_nodes**-0.5, \n",
    "                                       (self.input_nodes, self.hidden_nodes))\n",
    "\n",
    "        self.weights_hidden_to_output = np.random.normal(0.0, self.hidden_nodes**-0.5, \n",
    "                                       (self.hidden_nodes, self.output_nodes))\n",
    "        self.lr = learning_rate\n",
    "        \n",
    "        self.activation_function = lambda x : 1/(1+np.exp(-x))  # sigmoid calculation.\n",
    "\n",
    "    def forward_pass_train(self, X):\n",
    "\n",
    "        ### Forward pass ###\n",
    "        \n",
    "        #Hidden layer.\n",
    "        hidden_inputs = X.dot(self.weights_input_to_hidden) # signals into hidden layer\n",
    "        hidden_outputs = self.activation_function(hidden_inputs) # signals from hidden layer\n",
    "\n",
    "        # Output layer\n",
    "        final_inputs = hidden_outputs.dot(self.weights_hidden_to_output) # signals into final output layer\n",
    "        final_outputs = final_inputs # signals from final output layer\n",
    "        \n",
    "        return final_outputs, hidden_outputs\n",
    "      \n",
    "    \n",
    "    def backpropagation(self, final_outputs, hidden_outputs, X, y, delta_weights_i_h, delta_weights_h_o):\n",
    "        \n",
    "        ''' Implement backpropagation\n",
    "         \n",
    "            Arguments\n",
    "            ---------\n",
    "            final_outputs: output from forward pass\n",
    "            y: target (i.e. label) batch\n",
    "            delta_weights_i_h: change in weights from input to hidden layers\n",
    "            delta_weights_h_o: change in weights from hidden to output layers\n",
    "        '''\n",
    "       \n",
    "        ### Backward pass ###\n",
    "\n",
    "        # Output error\n",
    "        error = (y - final_outputs) # Output layer error is the difference between desired target and actual output.\n",
    "        \n",
    "        # Calculating the hidden layer's contribution to the error\n",
    "        hidden_error = error.dot(self.weights_hidden_to_output.T)\n",
    "        \n",
    "        #Backpropagated error terms.\n",
    "        output_error_term = error\n",
    "        \n",
    "        hidden_error_term = hidden_error * hidden_outputs * (1 - hidden_outputs)\n",
    "        \n",
    "        # Weight step (input to hidden)\n",
    "        delta_weights_i_h += hidden_error_term * X[:, None]\n",
    "        \n",
    "        # Weight step (hidden to output)\n",
    "        delta_weights_h_o += output_error_term * hidden_outputs[:,None]\n",
    "        \n",
    "        return delta_weights_i_h, delta_weights_h_o\n",
    "\n",
    "    def update_weights(self, delta_weights_i_h, delta_weights_h_o, n_records):\n",
    "        \n",
    "        ''' Update weights on gradient descent step\n",
    "         \n",
    "            Arguments\n",
    "            ---------\n",
    "            delta_weights_i_h: change in weights from input to hidden layers\n",
    "            delta_weights_h_o: change in weights from hidden to output layers\n",
    "            n_records: number of records\n",
    "        \n",
    "        '''\n",
    "        self.weights_hidden_to_output += self.lr * delta_weights_h_o/n_records # update hidden-to-output weights with gradient descent step\n",
    "        self.weights_input_to_hidden += self.lr * delta_weights_i_h/n_records # update input-to-hidden weights with gradient descent step\n",
    "\n",
    "    def run(self, features):\n",
    "\n",
    "        ''' Run a forward pass through the network with input features \n",
    "        \n",
    "            Arguments\n",
    "            ---------\n",
    "            features: 1D array of feature values\n",
    "        '''\n",
    "        \n",
    "        #### Forward pass ####\n",
    "\n",
    "        # Hidden layer\n",
    "        hidden_inputs = features.dot(self.weights_input_to_hidden) # input feature vector into hidden layer\n",
    "        hidden_outputs = self.activation_function(hidden_inputs) # output from hidden layer\n",
    "        \n",
    "        # Output layer\n",
    "        final_inputs = hidden_outputs.dot(self.weights_hidden_to_output) # signals into final output layer\n",
    "        final_outputs = final_inputs # signals from final output layer \n",
    "        \n",
    "        return final_outputs\n",
    "\n",
    "    def train(self, features, targets):\n",
    "\n",
    "        ''' Train the network on batch of features and targets. \n",
    "        \n",
    "            Arguments\n",
    "            ---------\n",
    "            \n",
    "            features: 2D array, each row is one data record, each column is a feature\n",
    "            targets: 1D array of target values\n",
    "        \n",
    "        '''\n",
    "        n_records = features.shape[0]\n",
    "        delta_weights_i_h = np.zeros(self.weights_input_to_hidden.shape)\n",
    "        delta_weights_h_o = np.zeros(self.weights_hidden_to_output.shape)\n",
    "        for X, y in zip(features, targets):\n",
    "            \n",
    "            final_outputs, hidden_outputs = self.forward_pass_train(X)  # Implementing the forward pass function below\n",
    "            \n",
    "            # Implementing the backproagation function below\n",
    "            delta_weights_i_h, delta_weights_h_o = self.backpropagation(final_outputs, hidden_outputs, X, y, \n",
    "                                                                        delta_weights_i_h, delta_weights_h_o)\n",
    "        self.update_weights(delta_weights_i_h, delta_weights_h_o, n_records)"
   ]
  },
  {
   "cell_type": "markdown",
   "metadata": {
    "id": "Fmn7ho2WLetN"
   },
   "source": [
    "## Test Fully Connected Neural Network"
   ]
  },
  {
   "cell_type": "code",
   "execution_count": 16,
   "metadata": {
    "colab": {
     "base_uri": "https://localhost:8080/"
    },
    "id": "8QwKCBApLfeB",
    "outputId": "4612c69e-94f1-4baf-d04e-48a80e99d81f"
   },
   "outputs": [
    {
     "name": "stderr",
     "output_type": "stream",
     "text": [
      "...\n",
      "----------------------------------------------------------------------\n",
      "Ran 3 tests in 0.004s\n",
      "\n",
      "OK\n"
     ]
    },
    {
     "data": {
      "text/plain": [
       "<unittest.runner.TextTestResult run=3 errors=0 failures=0>"
      ]
     },
     "execution_count": 16,
     "metadata": {},
     "output_type": "execute_result"
    }
   ],
   "source": [
    "import unittest\n",
    "\n",
    "\n",
    "inputs = np.array([[0.5, -0.2, 0.1]])\n",
    "targets = np.array([[0.4]])\n",
    "test_w_i_h = np.array([[0.1, -0.2],\n",
    "                       [0.4, 0.5],\n",
    "                       [-0.3, 0.2]])\n",
    "test_w_h_o = np.array([[0.3],\n",
    "                       [-0.1]])\n",
    "\n",
    "class TestMethods(unittest.TestCase):\n",
    "    \n",
    "    ##########\n",
    "    # Unit tests for network functionality\n",
    "    ##########\n",
    "\n",
    "    def test_activation(self):\n",
    "        network = NeuralNetwork(3, 2, 1, 0.5)\n",
    "        # Test that the activation function is a sigmoid\n",
    "        self.assertTrue(np.all(network.activation_function(0.5) == 1/(1+np.exp(-0.5))))\n",
    "\n",
    "    def test_train(self):\n",
    "        # Test that weights are updated correctly on training\n",
    "        network = NeuralNetwork(3, 2, 1, 0.5)\n",
    "        network.weights_input_to_hidden = test_w_i_h.copy()\n",
    "        network.weights_hidden_to_output = test_w_h_o.copy()\n",
    "        \n",
    "        network.train(inputs, targets)\n",
    "        self.assertTrue(np.allclose(network.weights_hidden_to_output, \n",
    "                                    np.array([[ 0.37275328], \n",
    "                                              [-0.03172939]])))\n",
    "        self.assertTrue(np.allclose(network.weights_input_to_hidden,\n",
    "                                    np.array([[ 0.10562014, -0.20185996], \n",
    "                                              [0.39775194, 0.50074398], \n",
    "                                              [-0.29887597, 0.19962801]])))\n",
    "\n",
    "    def test_run(self):\n",
    "        # Test correctness of run method\n",
    "        network = NeuralNetwork(3, 2, 1, 0.5)\n",
    "        network.weights_input_to_hidden = test_w_i_h.copy()\n",
    "        network.weights_hidden_to_output = test_w_h_o.copy()\n",
    "\n",
    "        self.assertTrue(np.allclose(network.run(inputs), 0.09998924))\n",
    "\n",
    "suite = unittest.TestLoader().loadTestsFromModule(TestMethods())\n",
    "unittest.TextTestRunner().run(suite)"
   ]
  },
  {
   "cell_type": "markdown",
   "metadata": {
    "id": "8ovTw6jHLwNa"
   },
   "source": [
    "## Testing CNN Forward Pass for Different Filter Settings for different Random Input Images"
   ]
  },
  {
   "cell_type": "code",
   "execution_count": 17,
   "metadata": {
    "colab": {
     "base_uri": "https://localhost:8080/"
    },
    "id": "t-LpRSecL2Mh",
    "outputId": "92080dd8-e648-428b-994e-f8397b2477af"
   },
   "outputs": [
    {
     "name": "stdout",
     "output_type": "stream",
     "text": [
      "For filter with size : (2, 2)  Padding : 2  Stride : 2 \n",
      "\n",
      "Input Image Dimesions : (12, 6, 6, 9)\t Convoluted Image Dimensions : (12, 4, 4, 15)\t Image After Pooling :(12, 2, 2, 15)\n",
      "Input Image Dimesions : (30, 6, 6, 3)\t Convoluted Image Dimensions : (30, 4, 4, 4)\t Image After Pooling :(30, 2, 2, 4)\n",
      "Input Image Dimesions : (20, 7, 7, 1)\t Convoluted Image Dimensions : (20, 5, 5, 2)\t Image After Pooling :(20, 3, 3, 2)\n",
      "Input Image Dimesions : (21, 6, 6, 8)\t Convoluted Image Dimensions : (21, 4, 4, 12)\t Image After Pooling :(21, 2, 2, 12)\n",
      "Input Image Dimesions : (46, 8, 8, 5)\t Convoluted Image Dimensions : (46, 5, 5, 11)\t Image After Pooling :(46, 3, 3, 11)\n",
      "Input Image Dimesions : (20, 8, 8, 1)\t Convoluted Image Dimensions : (20, 5, 5, 8)\t Image After Pooling :(20, 3, 3, 8)\n",
      "Input Image Dimesions : (12, 7, 7, 9)\t Convoluted Image Dimensions : (12, 5, 5, 11)\t Image After Pooling :(12, 3, 3, 11)\n",
      "\n",
      "For filter with size : (3, 3)  Padding : 3  Stride : 3 \n",
      "\n",
      "Input Image Dimesions : (40, 7, 7, 6)\t Convoluted Image Dimensions : (40, 4, 4, 15)\t Image After Pooling :(40, 2, 2, 15)\n",
      "Input Image Dimesions : (29, 8, 8, 9)\t Convoluted Image Dimensions : (29, 4, 4, 12)\t Image After Pooling :(29, 2, 2, 12)\n",
      "Input Image Dimesions : (18, 8, 8, 4)\t Convoluted Image Dimensions : (18, 4, 4, 12)\t Image After Pooling :(18, 2, 2, 12)\n",
      "Input Image Dimesions : (24, 10, 10, 5)\t Convoluted Image Dimensions : (24, 5, 5, 8)\t Image After Pooling :(24, 3, 3, 8)\n",
      "Input Image Dimesions : (35, 9, 9, 4)\t Convoluted Image Dimensions : (35, 4, 4, 7)\t Image After Pooling :(35, 2, 2, 7)\n",
      "Input Image Dimesions : (28, 8, 8, 8)\t Convoluted Image Dimensions : (28, 4, 4, 14)\t Image After Pooling :(28, 2, 2, 14)\n",
      "Input Image Dimesions : (42, 11, 11, 1)\t Convoluted Image Dimensions : (42, 5, 5, 10)\t Image After Pooling :(42, 3, 3, 10)\n",
      "\n",
      "For filter with size : (4, 4)  Padding : 4  Stride : 4 \n",
      "\n",
      "Input Image Dimesions : (23, 8, 8, 3)\t Convoluted Image Dimensions : (23, 3, 3, 7)\t Image After Pooling :(23, 2, 2, 7)\n",
      "Input Image Dimesions : (49, 8, 8, 1)\t Convoluted Image Dimensions : (49, 3, 3, 7)\t Image After Pooling :(49, 2, 2, 7)\n",
      "Input Image Dimesions : (46, 9, 9, 7)\t Convoluted Image Dimensions : (46, 4, 4, 8)\t Image After Pooling :(46, 2, 2, 8)\n",
      "Input Image Dimesions : (34, 11, 11, 7)\t Convoluted Image Dimensions : (34, 4, 4, 12)\t Image After Pooling :(34, 2, 2, 12)\n",
      "Input Image Dimesions : (44, 12, 12, 8)\t Convoluted Image Dimensions : (44, 4, 4, 17)\t Image After Pooling :(44, 2, 2, 17)\n",
      "Input Image Dimesions : (14, 9, 9, 3)\t Convoluted Image Dimensions : (14, 4, 4, 9)\t Image After Pooling :(14, 2, 2, 9)\n",
      "Input Image Dimesions : (48, 14, 14, 5)\t Convoluted Image Dimensions : (48, 5, 5, 8)\t Image After Pooling :(48, 3, 3, 8)\n",
      "\n",
      "For filter with size : (5, 5)  Padding : 5  Stride : 5 \n",
      "\n",
      "Input Image Dimesions : (19, 9, 9, 6)\t Convoluted Image Dimensions : (19, 3, 3, 11)\t Image After Pooling :(19, 2, 2, 11)\n",
      "Input Image Dimesions : (19, 10, 10, 1)\t Convoluted Image Dimensions : (19, 3, 3, 3)\t Image After Pooling :(19, 2, 2, 3)\n",
      "Input Image Dimesions : (43, 10, 10, 1)\t Convoluted Image Dimensions : (43, 3, 3, 2)\t Image After Pooling :(43, 2, 2, 2)\n",
      "Input Image Dimesions : (47, 10, 10, 3)\t Convoluted Image Dimensions : (47, 3, 3, 6)\t Image After Pooling :(47, 2, 2, 6)\n",
      "Input Image Dimesions : (30, 11, 11, 7)\t Convoluted Image Dimensions : (30, 4, 4, 10)\t Image After Pooling :(30, 2, 2, 10)\n",
      "Input Image Dimesions : (46, 10, 10, 3)\t Convoluted Image Dimensions : (46, 3, 3, 4)\t Image After Pooling :(46, 2, 2, 4)\n",
      "Input Image Dimesions : (24, 11, 11, 7)\t Convoluted Image Dimensions : (24, 4, 4, 8)\t Image After Pooling :(24, 2, 2, 8)\n",
      "\n"
     ]
    }
   ],
   "source": [
    "def TestForwardPass():\n",
    "\n",
    "  for i in range(2,6):\n",
    "    \n",
    "    # dimensions of the convoluted image\n",
    "    # n_c = n_c_in + np.random.randint(1, 10)  # Number of kernels\n",
    "    f_h, f_w = i, i # Filter height and width (m2, n2)\n",
    "    padding, stride = i, i\n",
    "    print('For filter with size : ({}, {})'.format(f_h, f_w), ' Padding :',padding, ' Stride :', stride, '\\n')\n",
    "\n",
    "    # input image dimensions\n",
    "    for j in range(5, 12):\n",
    "      val = np.random.randint(4, j)\n",
    "      n_h_in, n_w_in = f_h + val, f_w + val   # m1, n1\n",
    "\n",
    "      n_c_in = np.random.randint(1, 10)\n",
    "      n_c = n_c_in + np.random.randint(1, 10)  # Number of kernels\n",
    "\n",
    "      # Initializing input dataset\n",
    "      data_size = np.random.randint(10, 50)\n",
    "      A_in = np.random.randn(data_size, n_h_in, n_w_in, n_c_in)\n",
    "\n",
    "      # Initializing weights\n",
    "      W = np.random.randn(f_h, f_w, n_c_in, n_c)\n",
    "      b = np.random.randn(1, 1, 1, n_c)\n",
    "  \n",
    "      Z, A1, cache_conv1 = CNN_node_forward(A_in, W, b, padding, stride, relu)\n",
    "\n",
    "      pool_size, stride_pool = 2, 2\n",
    "      P1, cache_pool1 = MAX_pool_forward(A1, pool_size, stride_pool)\n",
    "      \n",
    "      print(f'Input Image Dimesions : {A_in.shape}\\t Convoluted Image Dimensions : {A1.shape}\\t Image After Pooling :{P1.shape}')\n",
    "    print()\n",
    "\n",
    "TestForwardPass()"
   ]
  },
  {
   "cell_type": "markdown",
   "metadata": {
    "id": "cgyhbpNwMBRf"
   },
   "source": [
    "## Loding and Preprocessing MNIST DataSe"
   ]
  },
  {
   "cell_type": "code",
   "execution_count": 18,
   "metadata": {
    "id": "oDW6F9I0MCic"
   },
   "outputs": [],
   "source": [
    "from keras.datasets import mnist\n",
    "from keras.utils import to_categorical\n",
    "from matplotlib import pyplot"
   ]
  },
  {
   "cell_type": "code",
   "execution_count": 19,
   "metadata": {
    "id": "p5OrgNGaMEoZ"
   },
   "outputs": [],
   "source": [
    "def load_data():\n",
    "\n",
    "  (trainX, trainY), (testX, testY) = mnist.load_data()\n",
    "  \n",
    "  print('Train: X=%s, y=%s' % (trainX.shape, trainY.shape))\n",
    "  print('Test: X=%s, y=%s' % (testX.shape, testY.shape))\n",
    "  \n",
    "  for i in range(9):\n",
    "    pyplot.subplot(330 + 1 + i)\n",
    "    pyplot.imshow(trainX[i], cmap=pyplot.get_cmap('gray'))\n",
    "  pyplot.show()\n",
    "\n",
    "  print('Training Samples Size ', trainX.shape, ' Training Labels Shape ', trainY.shape)\n",
    "  print('Test Samples Size', testX.shape, ' Test Labels Shape', testY.shape)\n",
    "\n",
    "  # Flatten out each image into single channel\n",
    "\n",
    "  trainX = trainX.reshape((trainX.shape[0], 28, 28, 1))\n",
    "  testX = testX.reshape((testX.shape[0], 28, 28, 1))\n",
    "\n",
    "  # Perform one hot encoding\n",
    "\n",
    "  trainY = to_categorical(trainY)\n",
    "  testY = to_categorical(testY)\n",
    "\n",
    "  return trainX, trainY, testX, testY"
   ]
  },
  {
   "cell_type": "code",
   "execution_count": 20,
   "metadata": {
    "colab": {
     "base_uri": "https://localhost:8080/",
     "height": 369
    },
    "id": "c3ZICSVSMGtU",
    "outputId": "06613eab-394b-4125-f2c5-2e226488a258"
   },
   "outputs": [
    {
     "name": "stdout",
     "output_type": "stream",
     "text": [
      "Train: X=(60000, 28, 28), y=(60000,)\n",
      "Test: X=(10000, 28, 28), y=(10000,)\n"
     ]
    },
    {
     "data": {
      "image/png": "[encoded data removed]",
      "text/plain": [
       "<Figure size 432x288 with 9 Axes>"
      ]
     },
     "metadata": {
      "needs_background": "light"
     },
     "output_type": "display_data"
    },
    {
     "name": "stdout",
     "output_type": "stream",
     "text": [
      "Training Samples Size  (60000, 28, 28)  Training Labels Shape  (60000,)\n",
      "Test Samples Size (10000, 28, 28)  Test Labels Shape (10000,)\n"
     ]
    }
   ],
   "source": [
    "features_train, labels_train, features_test, labels_test = load_data()"
   ]
  },
  {
   "cell_type": "code",
   "execution_count": 21,
   "metadata": {
    "id": "eU6_UeP_MJVy"
   },
   "outputs": [],
   "source": [
    "def preprocess_data(train, test):\n",
    "\n",
    "  # convert from integers to floats\n",
    "\t\n",
    "  train_norm = train.astype('float32')\n",
    "  test_norm = test.astype('float32')\n",
    "\t\n",
    "  # normalize to range 0-1\n",
    "\t\n",
    "  train_norm = train_norm / 255.0\n",
    "  test_norm = test_norm / 255.0\n",
    "\t\n",
    "  # return normalized images\n",
    "  \n",
    "  return train_norm, test_norm"
   ]
  },
  {
   "cell_type": "code",
   "execution_count": null,
   "metadata": {},
   "outputs": [],
   "source": []
  }
 ],
 "metadata": {
  "colab": {
   "collapsed_sections": [],
   "name": "Midsem_PartB_2019PCS00-05|07|22_____v2.ipynb",
   "provenance": []
  },
  "kernelspec": {
   "display_name": "Python 3",
   "language": "python",
   "name": "python3"
  },
  "language_info": {
   "codemirror_mode": {
    "name": "ipython",
    "version": 3
   },
   "file_extension": ".py",
   "mimetype": "text/x-python",
   "name": "python",
   "nbconvert_exporter": "python",
   "pygments_lexer": "ipython3",
   "version": "3.8.3"
  },
  "varInspector": {
   "cols": {
    "lenName": 16,
    "lenType": 16,
    "lenVar": 40
   },
   "kernels_config": {
    "python": {
     "delete_cmd_postfix": "",
     "delete_cmd_prefix": "del ",
     "library": "var_list.py",
     "varRefreshCmd": "print(var_dic_list())"
    },
    "r": {
     "delete_cmd_postfix": ") ",
     "delete_cmd_prefix": "rm(",
     "library": "var_list.r",
     "varRefreshCmd": "cat(var_dic_list()) "
    }
   },
   "types_to_exclude": [
    "module",
    "function",
    "builtin_function_or_method",
    "instance",
    "_Feature"
   ],
   "window_display": false
  }
 },
 "nbformat": 4,
 "nbformat_minor": 1
}
